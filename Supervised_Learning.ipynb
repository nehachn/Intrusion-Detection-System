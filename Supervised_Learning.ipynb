{
  "nbformat": 4,
  "nbformat_minor": 0,
  "metadata": {
    "colab": {
      "name": "Supervised Learning.ipynb",
      "provenance": [],
      "collapsed_sections": []
    },
    "kernelspec": {
      "name": "python3",
      "display_name": "Python 3"
    }
  },
  "cells": [
    {
      "cell_type": "markdown",
      "metadata": {
        "id": "gQlqsYMfhkzv"
      },
      "source": [
        "#Supervised Learning\n",
        "\n",
        "The following implements KNN model for supervised learning after under sampling and taking those features only which have correlation higher than 0.5 with the Normal/Attack occurance."
      ]
    },
    {
      "cell_type": "code",
      "metadata": {
        "id": "JmFb71xTA-_M"
      },
      "source": [
        "import pandas as pd\n",
        "import numpy as np\n",
        "from sklearn.model_selection import train_test_split\n",
        "from sklearn.preprocessing import StandardScaler\n",
        "from sklearn.metrics import classification_report"
      ],
      "execution_count": null,
      "outputs": []
    },
    {
      "cell_type": "code",
      "metadata": {
        "id": "zv2z9_wpBSUt"
      },
      "source": [
        "df = pd.read_csv(\"SWaT_Dataset_Attack_v0.csv\")"
      ],
      "execution_count": null,
      "outputs": []
    },
    {
      "cell_type": "code",
      "metadata": {
        "colab": {
          "base_uri": "https://localhost:8080/",
          "height": 383
        },
        "id": "k0QhDW_mEN3i",
        "outputId": "ddc06021-5cc7-4963-c10e-b9be24ab96e8"
      },
      "source": [
        "df.head()"
      ],
      "execution_count": null,
      "outputs": [
        {
          "output_type": "execute_result",
          "data": {
            "text/html": [
              "<div>\n",
              "<style scoped>\n",
              "    .dataframe tbody tr th:only-of-type {\n",
              "        vertical-align: middle;\n",
              "    }\n",
              "\n",
              "    .dataframe tbody tr th {\n",
              "        vertical-align: top;\n",
              "    }\n",
              "\n",
              "    .dataframe thead th {\n",
              "        text-align: right;\n",
              "    }\n",
              "</style>\n",
              "<table border=\"1\" class=\"dataframe\">\n",
              "  <thead>\n",
              "    <tr style=\"text-align: right;\">\n",
              "      <th></th>\n",
              "      <th>Timestamp</th>\n",
              "      <th>FIT101</th>\n",
              "      <th>LIT101</th>\n",
              "      <th>MV101</th>\n",
              "      <th>P101</th>\n",
              "      <th>P102</th>\n",
              "      <th>AIT201</th>\n",
              "      <th>AIT202</th>\n",
              "      <th>AIT203</th>\n",
              "      <th>FIT201</th>\n",
              "      <th>MV201</th>\n",
              "      <th>P201</th>\n",
              "      <th>P202</th>\n",
              "      <th>P203</th>\n",
              "      <th>P204</th>\n",
              "      <th>P205</th>\n",
              "      <th>P206</th>\n",
              "      <th>DPIT301</th>\n",
              "      <th>FIT301</th>\n",
              "      <th>LIT301</th>\n",
              "      <th>MV301</th>\n",
              "      <th>MV302</th>\n",
              "      <th>MV303</th>\n",
              "      <th>MV304</th>\n",
              "      <th>P301</th>\n",
              "      <th>P302</th>\n",
              "      <th>AIT401</th>\n",
              "      <th>AIT402</th>\n",
              "      <th>FIT401</th>\n",
              "      <th>LIT401</th>\n",
              "      <th>P401</th>\n",
              "      <th>P402</th>\n",
              "      <th>P403</th>\n",
              "      <th>P404</th>\n",
              "      <th>UV401</th>\n",
              "      <th>AIT501</th>\n",
              "      <th>AIT502</th>\n",
              "      <th>AIT503</th>\n",
              "      <th>AIT504</th>\n",
              "      <th>FIT501</th>\n",
              "      <th>FIT502</th>\n",
              "      <th>FIT503</th>\n",
              "      <th>FIT504</th>\n",
              "      <th>P501</th>\n",
              "      <th>P502</th>\n",
              "      <th>PIT501</th>\n",
              "      <th>PIT502</th>\n",
              "      <th>PIT503</th>\n",
              "      <th>FIT601</th>\n",
              "      <th>P601</th>\n",
              "      <th>P602</th>\n",
              "      <th>P603</th>\n",
              "      <th>Normal/Attack</th>\n",
              "    </tr>\n",
              "  </thead>\n",
              "  <tbody>\n",
              "    <tr>\n",
              "      <th>0</th>\n",
              "      <td>28/12/2015 10:00:00 AM</td>\n",
              "      <td>2.427057</td>\n",
              "      <td>522.8467</td>\n",
              "      <td>2</td>\n",
              "      <td>2</td>\n",
              "      <td>1</td>\n",
              "      <td>262.0161</td>\n",
              "      <td>8.396437</td>\n",
              "      <td>328.6337</td>\n",
              "      <td>2.445391</td>\n",
              "      <td>2</td>\n",
              "      <td>1</td>\n",
              "      <td>1</td>\n",
              "      <td>2</td>\n",
              "      <td>1</td>\n",
              "      <td>2</td>\n",
              "      <td>1</td>\n",
              "      <td>19.74838</td>\n",
              "      <td>2.206835</td>\n",
              "      <td>956.1651</td>\n",
              "      <td>1</td>\n",
              "      <td>2</td>\n",
              "      <td>1</td>\n",
              "      <td>1</td>\n",
              "      <td>1</td>\n",
              "      <td>2</td>\n",
              "      <td>148.808</td>\n",
              "      <td>156.0882</td>\n",
              "      <td>1.713517</td>\n",
              "      <td>942.0662</td>\n",
              "      <td>1</td>\n",
              "      <td>2</td>\n",
              "      <td>1</td>\n",
              "      <td>1</td>\n",
              "      <td>2</td>\n",
              "      <td>7.878621</td>\n",
              "      <td>145.1166</td>\n",
              "      <td>264.5475</td>\n",
              "      <td>12.03538</td>\n",
              "      <td>1.723789</td>\n",
              "      <td>1.279621</td>\n",
              "      <td>0.735269</td>\n",
              "      <td>0.307786</td>\n",
              "      <td>2</td>\n",
              "      <td>1</td>\n",
              "      <td>250.8652</td>\n",
              "      <td>1.649953</td>\n",
              "      <td>189.5988</td>\n",
              "      <td>0.000128</td>\n",
              "      <td>1</td>\n",
              "      <td>1</td>\n",
              "      <td>1</td>\n",
              "      <td>Normal</td>\n",
              "    </tr>\n",
              "    <tr>\n",
              "      <th>1</th>\n",
              "      <td>28/12/2015 10:00:01 AM</td>\n",
              "      <td>2.446274</td>\n",
              "      <td>522.8860</td>\n",
              "      <td>2</td>\n",
              "      <td>2</td>\n",
              "      <td>1</td>\n",
              "      <td>262.0161</td>\n",
              "      <td>8.396437</td>\n",
              "      <td>328.6337</td>\n",
              "      <td>2.445391</td>\n",
              "      <td>2</td>\n",
              "      <td>1</td>\n",
              "      <td>1</td>\n",
              "      <td>2</td>\n",
              "      <td>1</td>\n",
              "      <td>2</td>\n",
              "      <td>1</td>\n",
              "      <td>19.74838</td>\n",
              "      <td>2.208244</td>\n",
              "      <td>956.1651</td>\n",
              "      <td>1</td>\n",
              "      <td>2</td>\n",
              "      <td>1</td>\n",
              "      <td>1</td>\n",
              "      <td>1</td>\n",
              "      <td>2</td>\n",
              "      <td>148.808</td>\n",
              "      <td>156.0882</td>\n",
              "      <td>1.715952</td>\n",
              "      <td>942.0277</td>\n",
              "      <td>1</td>\n",
              "      <td>2</td>\n",
              "      <td>1</td>\n",
              "      <td>1</td>\n",
              "      <td>2</td>\n",
              "      <td>7.878621</td>\n",
              "      <td>145.1166</td>\n",
              "      <td>264.5475</td>\n",
              "      <td>12.03538</td>\n",
              "      <td>1.723789</td>\n",
              "      <td>1.297554</td>\n",
              "      <td>0.735269</td>\n",
              "      <td>0.307786</td>\n",
              "      <td>2</td>\n",
              "      <td>1</td>\n",
              "      <td>250.8652</td>\n",
              "      <td>1.649953</td>\n",
              "      <td>189.6789</td>\n",
              "      <td>0.000128</td>\n",
              "      <td>1</td>\n",
              "      <td>1</td>\n",
              "      <td>1</td>\n",
              "      <td>Normal</td>\n",
              "    </tr>\n",
              "    <tr>\n",
              "      <th>2</th>\n",
              "      <td>28/12/2015 10:00:02 AM</td>\n",
              "      <td>2.489191</td>\n",
              "      <td>522.8467</td>\n",
              "      <td>2</td>\n",
              "      <td>2</td>\n",
              "      <td>1</td>\n",
              "      <td>262.0161</td>\n",
              "      <td>8.394514</td>\n",
              "      <td>328.6337</td>\n",
              "      <td>2.442316</td>\n",
              "      <td>2</td>\n",
              "      <td>1</td>\n",
              "      <td>1</td>\n",
              "      <td>2</td>\n",
              "      <td>1</td>\n",
              "      <td>2</td>\n",
              "      <td>1</td>\n",
              "      <td>19.69076</td>\n",
              "      <td>2.208628</td>\n",
              "      <td>956.4855</td>\n",
              "      <td>1</td>\n",
              "      <td>2</td>\n",
              "      <td>1</td>\n",
              "      <td>1</td>\n",
              "      <td>1</td>\n",
              "      <td>2</td>\n",
              "      <td>148.808</td>\n",
              "      <td>156.0882</td>\n",
              "      <td>1.715952</td>\n",
              "      <td>941.8739</td>\n",
              "      <td>1</td>\n",
              "      <td>2</td>\n",
              "      <td>1</td>\n",
              "      <td>1</td>\n",
              "      <td>2</td>\n",
              "      <td>7.878621</td>\n",
              "      <td>145.1166</td>\n",
              "      <td>264.5475</td>\n",
              "      <td>12.03538</td>\n",
              "      <td>1.723404</td>\n",
              "      <td>1.293967</td>\n",
              "      <td>0.735269</td>\n",
              "      <td>0.308619</td>\n",
              "      <td>2</td>\n",
              "      <td>1</td>\n",
              "      <td>250.8812</td>\n",
              "      <td>1.649953</td>\n",
              "      <td>189.6789</td>\n",
              "      <td>0.000128</td>\n",
              "      <td>1</td>\n",
              "      <td>1</td>\n",
              "      <td>1</td>\n",
              "      <td>Normal</td>\n",
              "    </tr>\n",
              "    <tr>\n",
              "      <th>3</th>\n",
              "      <td>28/12/2015 10:00:03 AM</td>\n",
              "      <td>2.534350</td>\n",
              "      <td>522.9645</td>\n",
              "      <td>2</td>\n",
              "      <td>2</td>\n",
              "      <td>1</td>\n",
              "      <td>262.0161</td>\n",
              "      <td>8.394514</td>\n",
              "      <td>328.6337</td>\n",
              "      <td>2.442316</td>\n",
              "      <td>2</td>\n",
              "      <td>1</td>\n",
              "      <td>1</td>\n",
              "      <td>2</td>\n",
              "      <td>1</td>\n",
              "      <td>2</td>\n",
              "      <td>1</td>\n",
              "      <td>19.69076</td>\n",
              "      <td>2.208628</td>\n",
              "      <td>956.8060</td>\n",
              "      <td>1</td>\n",
              "      <td>2</td>\n",
              "      <td>1</td>\n",
              "      <td>1</td>\n",
              "      <td>1</td>\n",
              "      <td>2</td>\n",
              "      <td>148.808</td>\n",
              "      <td>156.0882</td>\n",
              "      <td>1.714670</td>\n",
              "      <td>941.7970</td>\n",
              "      <td>1</td>\n",
              "      <td>2</td>\n",
              "      <td>1</td>\n",
              "      <td>1</td>\n",
              "      <td>2</td>\n",
              "      <td>7.878621</td>\n",
              "      <td>145.0141</td>\n",
              "      <td>264.5475</td>\n",
              "      <td>12.03538</td>\n",
              "      <td>1.723404</td>\n",
              "      <td>1.281158</td>\n",
              "      <td>0.735269</td>\n",
              "      <td>0.308619</td>\n",
              "      <td>2</td>\n",
              "      <td>1</td>\n",
              "      <td>250.8812</td>\n",
              "      <td>1.649953</td>\n",
              "      <td>189.6148</td>\n",
              "      <td>0.000128</td>\n",
              "      <td>1</td>\n",
              "      <td>1</td>\n",
              "      <td>1</td>\n",
              "      <td>Normal</td>\n",
              "    </tr>\n",
              "    <tr>\n",
              "      <th>4</th>\n",
              "      <td>28/12/2015 10:00:04 AM</td>\n",
              "      <td>2.569260</td>\n",
              "      <td>523.4748</td>\n",
              "      <td>2</td>\n",
              "      <td>2</td>\n",
              "      <td>1</td>\n",
              "      <td>262.0161</td>\n",
              "      <td>8.394514</td>\n",
              "      <td>328.6337</td>\n",
              "      <td>2.443085</td>\n",
              "      <td>2</td>\n",
              "      <td>1</td>\n",
              "      <td>1</td>\n",
              "      <td>2</td>\n",
              "      <td>1</td>\n",
              "      <td>2</td>\n",
              "      <td>1</td>\n",
              "      <td>19.69076</td>\n",
              "      <td>2.208628</td>\n",
              "      <td>957.0864</td>\n",
              "      <td>1</td>\n",
              "      <td>2</td>\n",
              "      <td>1</td>\n",
              "      <td>1</td>\n",
              "      <td>1</td>\n",
              "      <td>2</td>\n",
              "      <td>148.808</td>\n",
              "      <td>156.0882</td>\n",
              "      <td>1.714670</td>\n",
              "      <td>942.2200</td>\n",
              "      <td>1</td>\n",
              "      <td>2</td>\n",
              "      <td>1</td>\n",
              "      <td>1</td>\n",
              "      <td>2</td>\n",
              "      <td>7.878621</td>\n",
              "      <td>144.8859</td>\n",
              "      <td>264.5475</td>\n",
              "      <td>12.03538</td>\n",
              "      <td>1.723404</td>\n",
              "      <td>1.281158</td>\n",
              "      <td>0.735269</td>\n",
              "      <td>0.308619</td>\n",
              "      <td>2</td>\n",
              "      <td>1</td>\n",
              "      <td>250.8812</td>\n",
              "      <td>1.649953</td>\n",
              "      <td>189.5027</td>\n",
              "      <td>0.000128</td>\n",
              "      <td>1</td>\n",
              "      <td>1</td>\n",
              "      <td>1</td>\n",
              "      <td>Normal</td>\n",
              "    </tr>\n",
              "  </tbody>\n",
              "</table>\n",
              "</div>"
            ],
            "text/plain": [
              "                 Timestamp    FIT101    LIT101  ...  P602  P603  Normal/Attack\n",
              "0   28/12/2015 10:00:00 AM  2.427057  522.8467  ...     1     1         Normal\n",
              "1   28/12/2015 10:00:01 AM  2.446274  522.8860  ...     1     1         Normal\n",
              "2   28/12/2015 10:00:02 AM  2.489191  522.8467  ...     1     1         Normal\n",
              "3   28/12/2015 10:00:03 AM  2.534350  522.9645  ...     1     1         Normal\n",
              "4   28/12/2015 10:00:04 AM  2.569260  523.4748  ...     1     1         Normal\n",
              "\n",
              "[5 rows x 53 columns]"
            ]
          },
          "metadata": {
            "tags": []
          },
          "execution_count": 12
        }
      ]
    },
    {
      "cell_type": "code",
      "metadata": {
        "colab": {
          "base_uri": "https://localhost:8080/"
        },
        "id": "E8ZiO_MmEuWO",
        "outputId": "bf3d6eea-3475-4f93-ed92-989bda726908"
      },
      "source": [
        "cols = df.columns\n",
        "cols"
      ],
      "execution_count": null,
      "outputs": [
        {
          "output_type": "execute_result",
          "data": {
            "text/plain": [
              "Index([' Timestamp', 'FIT101', 'LIT101', ' MV101', 'P101', 'P102', ' AIT201',\n",
              "       'AIT202', 'AIT203', 'FIT201', ' MV201', ' P201', ' P202', 'P203',\n",
              "       ' P204', 'P205', 'P206', 'DPIT301', 'FIT301', 'LIT301', 'MV301',\n",
              "       'MV302', ' MV303', 'MV304', 'P301', 'P302', 'AIT401', 'AIT402',\n",
              "       'FIT401', 'LIT401', 'P401', 'P402', 'P403', 'P404', 'UV401', 'AIT501',\n",
              "       'AIT502', 'AIT503', 'AIT504', 'FIT501', 'FIT502', 'FIT503', 'FIT504',\n",
              "       'P501', 'P502', 'PIT501', 'PIT502', 'PIT503', 'FIT601', 'P601', 'P602',\n",
              "       'P603', 'Normal/Attack'],\n",
              "      dtype='object')"
            ]
          },
          "metadata": {
            "tags": []
          },
          "execution_count": 13
        }
      ]
    },
    {
      "cell_type": "code",
      "metadata": {
        "id": "NT6Z-iUrFvaD"
      },
      "source": [
        "\n",
        "# convert normal and attack innto binary variable\n",
        "df['Normal/Attack'].replace('Normal', 0, inplace=True)\n",
        "df['Normal/Attack'].replace('Attack', 1, inplace=True)\n"
      ],
      "execution_count": null,
      "outputs": []
    },
    {
      "cell_type": "code",
      "metadata": {
        "id": "C-s6QdtnGF_f",
        "colab": {
          "base_uri": "https://localhost:8080/"
        },
        "outputId": "06de43e6-d48d-4217-ed75-5a8bd01425e0"
      },
      "source": [
        "# %%\n",
        "df['Normal/Attack'].value_counts()"
      ],
      "execution_count": null,
      "outputs": [
        {
          "output_type": "execute_result",
          "data": {
            "text/plain": [
              "0    395298\n",
              "1     54621\n",
              "Name: Normal/Attack, dtype: int64"
            ]
          },
          "metadata": {
            "tags": []
          },
          "execution_count": 7
        }
      ]
    },
    {
      "cell_type": "code",
      "metadata": {
        "id": "vPCNbZ6iEnUU"
      },
      "source": [
        "df.drop(' Timestamp', axis = 1, inplace=True)"
      ],
      "execution_count": null,
      "outputs": []
    },
    {
      "cell_type": "markdown",
      "metadata": {
        "id": "ez9W6A4tiHWZ"
      },
      "source": [
        "Calculating correlation with the target column Normal/Attack"
      ]
    },
    {
      "cell_type": "code",
      "metadata": {
        "colab": {
          "base_uri": "https://localhost:8080/"
        },
        "id": "b7fmBsR3GHN6",
        "outputId": "f73a0fae-53b1-42aa-9fcd-a141a053e8bf"
      },
      "source": [
        "df_num_corr = df.corr()['Normal/Attack'][:-1] \n",
        "golden_features_list = df_num_corr[abs(df_num_corr) > 0.5].sort_values(ascending=False)\n",
        "print(\"There is {} strongly correlated values with SalePrice:\\n{}\".format(len(golden_features_list), golden_features_list))"
      ],
      "execution_count": null,
      "outputs": [
        {
          "output_type": "stream",
          "text": [
            "There is 15 strongly correlated values with SalePrice:\n",
            "AIT402    0.737683\n",
            "AIT502    0.707564\n",
            "MV304     0.609133\n",
            "AIT501   -0.577902\n",
            "LIT401   -0.670578\n",
            "P402     -0.743164\n",
            "FIT502   -0.752143\n",
            "PIT503   -0.753205\n",
            "FIT501   -0.753403\n",
            "PIT501   -0.755207\n",
            "P501     -0.757980\n",
            "UV401    -0.758003\n",
            "FIT503   -0.758781\n",
            "FIT504   -0.761722\n",
            "FIT401   -0.763314\n",
            "Name: Normal/Attack, dtype: float64\n"
          ],
          "name": "stdout"
        }
      ]
    },
    {
      "cell_type": "markdown",
      "metadata": {
        "id": "CKy3hwcliQ5y"
      },
      "source": [
        "Droping the other column vectors and only keeping the golden features (correlation >0.5)"
      ]
    },
    {
      "cell_type": "code",
      "metadata": {
        "id": "l-6j7J3KcX8p"
      },
      "source": [
        "df_reduced = df[['AIT402','AIT502','MV304','AIT501','LIT401','P402','FIT502','PIT503','FIT501','PIT501','P501','UV401','FIT503','FIT504','FIT401','Normal/Attack']]"
      ],
      "execution_count": null,
      "outputs": []
    },
    {
      "cell_type": "code",
      "metadata": {
        "id": "JPWebd-VGI7T"
      },
      "source": [
        "train_y = df_reduced['Normal/Attack']\n",
        "X_df = df_reduced.iloc[:,:-1]"
      ],
      "execution_count": null,
      "outputs": []
    },
    {
      "cell_type": "markdown",
      "metadata": {
        "id": "emcbAEMYdjWz"
      },
      "source": [
        "#Undersampling\n",
        "Since the dataset is highly imbalanced, performing **Under sampling** to get approximately equal ratio of the two classes. Also since the dataset is large undersampling is preferred "
      ]
    },
    {
      "cell_type": "code",
      "metadata": {
        "id": "_dWG0IhXyPk2",
        "colab": {
          "base_uri": "https://localhost:8080/"
        },
        "outputId": "8ccb88f8-7b79-4c34-c893-1b0a83dcb031"
      },
      "source": [
        "from imblearn.under_sampling import RandomUnderSampler"
      ],
      "execution_count": null,
      "outputs": [
        {
          "output_type": "stream",
          "text": [
            "/usr/local/lib/python3.7/dist-packages/sklearn/externals/six.py:31: FutureWarning: The module is deprecated in version 0.21 and will be removed in version 0.23 since we've dropped support for Python 2.7. Please rely on the official version of six (https://pypi.org/project/six/).\n",
            "  \"(https://pypi.org/project/six/).\", FutureWarning)\n",
            "/usr/local/lib/python3.7/dist-packages/sklearn/utils/deprecation.py:144: FutureWarning: The sklearn.neighbors.base module is  deprecated in version 0.22 and will be removed in version 0.24. The corresponding classes / functions should instead be imported from sklearn.neighbors. Anything that cannot be imported from sklearn.neighbors is now part of the private API.\n",
            "  warnings.warn(message, FutureWarning)\n"
          ],
          "name": "stderr"
        }
      ]
    },
    {
      "cell_type": "markdown",
      "metadata": {
        "id": "0WscXPei3dUG"
      },
      "source": [
        "Under sampling"
      ]
    },
    {
      "cell_type": "code",
      "metadata": {
        "id": "nyMmxftpzGUa",
        "colab": {
          "base_uri": "https://localhost:8080/"
        },
        "outputId": "1eb76e2a-cc26-40f9-b127-6c1289032d84"
      },
      "source": [
        "#defining under sampling strategy \n",
        "under_sample = RandomUnderSampler(sampling_strategy=0.5)\n",
        "# fit and apply the transform\n",
        "X_under, y_under = under_sample.fit_resample(X_df, train_y)"
      ],
      "execution_count": null,
      "outputs": [
        {
          "output_type": "stream",
          "text": [
            "/usr/local/lib/python3.7/dist-packages/sklearn/utils/deprecation.py:87: FutureWarning: Function safe_indexing is deprecated; safe_indexing is deprecated in version 0.22 and will be removed in version 0.24.\n",
            "  warnings.warn(msg, category=FutureWarning)\n"
          ],
          "name": "stderr"
        }
      ]
    },
    {
      "cell_type": "markdown",
      "metadata": {
        "id": "LwdcN-pQixTs"
      },
      "source": [
        "Spliting the dataset using **stratify** to get same class ratio in test and training dataset"
      ]
    },
    {
      "cell_type": "code",
      "metadata": {
        "id": "3OFJwuk6GKC5"
      },
      "source": [
        "# let's split into train and test set and then use scalar transformation\n",
        "X_train, X_test, y_train, y_test = train_test_split(X_under, y_under, random_state=0, test_size=0.3, stratify =y_under)\n",
        "# now let's standardize\n",
        "scalar = StandardScaler()\n",
        "SX_train = scalar.fit_transform(X_train)\n",
        "SX_test = scalar.transform(X_train)"
      ],
      "execution_count": null,
      "outputs": []
    },
    {
      "cell_type": "code",
      "metadata": {
        "id": "d1d-Uify1qxl",
        "colab": {
          "base_uri": "https://localhost:8080/"
        },
        "outputId": "cfd9ba5f-7ee1-4163-fe0d-28320b30948d"
      },
      "source": [
        "from collections import Counter\n",
        "print(Counter(y_train))\n",
        "print(Counter(y_test))"
      ],
      "execution_count": null,
      "outputs": [
        {
          "output_type": "stream",
          "text": [
            "Counter({0: 76469, 1: 38235})\n",
            "Counter({0: 32773, 1: 16386})\n"
          ],
          "name": "stdout"
        }
      ]
    },
    {
      "cell_type": "markdown",
      "metadata": {
        "id": "U8F3uZfui0ws"
      },
      "source": [
        "Now the class ratio is improved in both training and test dataset"
      ]
    },
    {
      "cell_type": "markdown",
      "metadata": {
        "id": "PGFOEonHjfqB"
      },
      "source": [
        "# KNN model"
      ]
    },
    {
      "cell_type": "code",
      "metadata": {
        "colab": {
          "base_uri": "https://localhost:8080/"
        },
        "id": "JoMNfdDNGLIz",
        "outputId": "9e7dc20e-cb31-47c0-925b-14361d7a2047"
      },
      "source": [
        "# %%\n",
        "from sklearn.neighbors import KNeighborsClassifier\n",
        "model = KNeighborsClassifier(n_neighbors=5)\n",
        "model.fit(SX_train, y_train)"
      ],
      "execution_count": null,
      "outputs": [
        {
          "output_type": "execute_result",
          "data": {
            "text/plain": [
              "KNeighborsClassifier(algorithm='auto', leaf_size=30, metric='minkowski',\n",
              "                     metric_params=None, n_jobs=None, n_neighbors=5, p=2,\n",
              "                     weights='uniform')"
            ]
          },
          "metadata": {
            "tags": []
          },
          "execution_count": 39
        }
      ]
    },
    {
      "cell_type": "code",
      "metadata": {
        "id": "05_IpfS0HEJf"
      },
      "source": [
        "y_pred = model.predict(X_test)"
      ],
      "execution_count": null,
      "outputs": []
    },
    {
      "cell_type": "code",
      "metadata": {
        "colab": {
          "base_uri": "https://localhost:8080/",
          "height": 195
        },
        "id": "5bIbC1IGMBIP",
        "outputId": "b0698440-fdc9-40de-a142-43070aa1e56f"
      },
      "source": [
        "report = classification_report(y_test, y_pred, output_dict=True)\n",
        "x = pd.DataFrame(report).transpose()\n",
        "x"
      ],
      "execution_count": null,
      "outputs": [
        {
          "output_type": "execute_result",
          "data": {
            "text/html": [
              "<div>\n",
              "<style scoped>\n",
              "    .dataframe tbody tr th:only-of-type {\n",
              "        vertical-align: middle;\n",
              "    }\n",
              "\n",
              "    .dataframe tbody tr th {\n",
              "        vertical-align: top;\n",
              "    }\n",
              "\n",
              "    .dataframe thead th {\n",
              "        text-align: right;\n",
              "    }\n",
              "</style>\n",
              "<table border=\"1\" class=\"dataframe\">\n",
              "  <thead>\n",
              "    <tr style=\"text-align: right;\">\n",
              "      <th></th>\n",
              "      <th>precision</th>\n",
              "      <th>recall</th>\n",
              "      <th>f1-score</th>\n",
              "      <th>support</th>\n",
              "    </tr>\n",
              "  </thead>\n",
              "  <tbody>\n",
              "    <tr>\n",
              "      <th>0</th>\n",
              "      <td>0.826679</td>\n",
              "      <td>0.999542</td>\n",
              "      <td>0.904930</td>\n",
              "      <td>32773.000000</td>\n",
              "    </tr>\n",
              "    <tr>\n",
              "      <th>1</th>\n",
              "      <td>0.998427</td>\n",
              "      <td>0.580862</td>\n",
              "      <td>0.734442</td>\n",
              "      <td>16386.000000</td>\n",
              "    </tr>\n",
              "    <tr>\n",
              "      <th>accuracy</th>\n",
              "      <td>0.859985</td>\n",
              "      <td>0.859985</td>\n",
              "      <td>0.859985</td>\n",
              "      <td>0.859985</td>\n",
              "    </tr>\n",
              "    <tr>\n",
              "      <th>macro avg</th>\n",
              "      <td>0.912553</td>\n",
              "      <td>0.790202</td>\n",
              "      <td>0.819686</td>\n",
              "      <td>49159.000000</td>\n",
              "    </tr>\n",
              "    <tr>\n",
              "      <th>weighted avg</th>\n",
              "      <td>0.883927</td>\n",
              "      <td>0.859985</td>\n",
              "      <td>0.848102</td>\n",
              "      <td>49159.000000</td>\n",
              "    </tr>\n",
              "  </tbody>\n",
              "</table>\n",
              "</div>"
            ],
            "text/plain": [
              "              precision    recall  f1-score       support\n",
              "0              0.826679  0.999542  0.904930  32773.000000\n",
              "1              0.998427  0.580862  0.734442  16386.000000\n",
              "accuracy       0.859985  0.859985  0.859985      0.859985\n",
              "macro avg      0.912553  0.790202  0.819686  49159.000000\n",
              "weighted avg   0.883927  0.859985  0.848102  49159.000000"
            ]
          },
          "metadata": {
            "tags": []
          },
          "execution_count": 41
        }
      ]
    },
    {
      "cell_type": "code",
      "metadata": {
        "colab": {
          "base_uri": "https://localhost:8080/"
        },
        "id": "TVwy82V1Udhq",
        "outputId": "5e63b652-0d55-494c-db32-e9c988aa92ef"
      },
      "source": [
        "L"
      ],
      "execution_count": null,
      "outputs": [
        {
          "output_type": "execute_result",
          "data": {
            "text/plain": [
              "array([[  2.58424942, 522.84670268,   2.00003459, ...,   0.99999646,\n",
              "          0.99999587,   0.99999646],\n",
              "       [  2.58424236, 522.88600266,   2.00003534, ...,   0.99999778,\n",
              "          0.99999718,   0.99999778],\n",
              "       [  2.58456411, 522.84670267,   2.0000352 , ...,   0.99999783,\n",
              "          0.99999723,   0.99999783],\n",
              "       ...,\n",
              "       [  2.53147094, 520.6877919 ,   1.99484618, ...,   1.00000318,\n",
              "          1.0000032 ,   1.00000318],\n",
              "       [  2.52121878, 520.72709185,   1.98819699, ...,   1.00000328,\n",
              "          1.00000329,   1.00000328],\n",
              "       [  2.51074078, 521.11959156,   1.98304875, ...,   1.00000334,\n",
              "          1.00000334,   1.00000334]])"
            ]
          },
          "metadata": {
            "tags": []
          },
          "execution_count": 19
        }
      ]
    },
    {
      "cell_type": "code",
      "metadata": {
        "colab": {
          "base_uri": "https://localhost:8080/"
        },
        "id": "qR1dkN-cvdXZ",
        "outputId": "944129e4-9498-41d6-d4a9-1c32c3ebf654"
      },
      "source": [
        "L.shape"
      ],
      "execution_count": null,
      "outputs": [
        {
          "output_type": "execute_result",
          "data": {
            "text/plain": [
              "(449919, 51)"
            ]
          },
          "metadata": {
            "tags": []
          },
          "execution_count": 20
        }
      ]
    },
    {
      "cell_type": "code",
      "metadata": {
        "id": "rcn2HpWOUfGN"
      },
      "source": [
        "############ basis vector\n",
        "##################################  pre-defined function\n",
        "import numpy as np\n",
        "\n",
        "def gs(X):\n",
        "    Q, R = np.linalg.qr(X)\n",
        "    return Q"
      ],
      "execution_count": null,
      "outputs": []
    },
    {
      "cell_type": "code",
      "metadata": {
        "id": "7m7y3J3Ue_Nm"
      },
      "source": [
        "A = gs(L)"
      ],
      "execution_count": null,
      "outputs": []
    },
    {
      "cell_type": "code",
      "metadata": {
        "colab": {
          "base_uri": "https://localhost:8080/"
        },
        "id": "qyX0t_dllC3L",
        "outputId": "fd6f32de-b5d4-4ec0-c4bf-31a337bc9d9e"
      },
      "source": [
        "A.shape"
      ],
      "execution_count": null,
      "outputs": [
        {
          "output_type": "execute_result",
          "data": {
            "text/plain": [
              "(449919, 51)"
            ]
          },
          "metadata": {
            "tags": []
          },
          "execution_count": 23
        }
      ]
    },
    {
      "cell_type": "code",
      "metadata": {
        "colab": {
          "base_uri": "https://localhost:8080/"
        },
        "id": "KeiZMk0urCSl",
        "outputId": "74209fbc-6438-41a4-9c62-337159fbefe4"
      },
      "source": [
        "A"
      ],
      "execution_count": null,
      "outputs": [
        {
          "output_type": "execute_result",
          "data": {
            "text/plain": [
              "array([[-0.00197435, -0.00027501, -0.00116224, ..., -0.00242623,\n",
              "        -0.02058128, -0.01406679],\n",
              "       [-0.00197435, -0.00027483, -0.00116376, ...,  0.02283848,\n",
              "         0.02155911,  0.00724438],\n",
              "       [-0.00197459, -0.00027532, -0.0011661 , ..., -0.05275858,\n",
              "         0.03146894,  0.02786435],\n",
              "       ...,\n",
              "       [-0.00193403, -0.00023256, -0.00055887, ..., -0.00170343,\n",
              "        -0.00213372, -0.00192036],\n",
              "       [-0.0019262 , -0.00022233, -0.00060792, ...,  0.00024263,\n",
              "        -0.00043183,  0.00165853],\n",
              "       [-0.00191819, -0.00021036, -0.00062957, ...,  0.00053063,\n",
              "         0.0008598 ,  0.00319622]])"
            ]
          },
          "metadata": {
            "tags": []
          },
          "execution_count": 24
        }
      ]
    }
  ]
}